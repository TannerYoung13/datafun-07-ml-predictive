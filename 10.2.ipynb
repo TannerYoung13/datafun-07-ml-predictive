{
 "cells": [
  {
   "cell_type": "code",
   "execution_count": 3,
   "metadata": {},
   "outputs": [],
   "source": [
    "# account.py\n",
    "\"\"\"Account class definition.\"\"\"\n",
    "from decimal import Decimal\n",
    "\n",
    "class Account:\n",
    "    \"\"\"Account class for maintaining a bank account balance.\"\"\"\n",
    "    \n",
    "    def __init__(self, name, balance):\n",
    "        \"\"\"Initialize an Account object.\"\"\"\n",
    "\n",
    "        # if balance is less than 0.00, raise an exception\n",
    "        if balance < Decimal('0.00'):\n",
    "            raise ValueError('Initial balance must be >= to 0.00.')\n",
    "\n",
    "        self.name = name\n",
    "        self.balance = balance\n",
    "\n",
    "    def deposit(self, amount):\n",
    "        \"\"\"Deposit money to the account.\"\"\"\n",
    "\n",
    "        # if amount is less than 0.00, raise an exception\n",
    "        if amount < Decimal('0.00'):\n",
    "            raise ValueError('amount must be positive.')\n",
    "\n",
    "        self.balance += amount"
   ]
  },
  {
   "cell_type": "code",
   "execution_count": null,
   "metadata": {},
   "outputs": [],
   "source": [
    "from account import Account"
   ]
  },
  {
   "cell_type": "code",
   "execution_count": 7,
   "metadata": {},
   "outputs": [],
   "source": [
    "from decimal import Decimal"
   ]
  },
  {
   "cell_type": "code",
   "execution_count": 6,
   "metadata": {},
   "outputs": [],
   "source": [
    "value = Decimal('12.34')"
   ]
  },
  {
   "cell_type": "code",
   "execution_count": 5,
   "metadata": {},
   "outputs": [],
   "source": [
    "account1 = Account('John Green', Decimal('50.00'))"
   ]
  },
  {
   "cell_type": "code",
   "execution_count": 8,
   "metadata": {},
   "outputs": [
    {
     "data": {
      "text/plain": [
       "'John Green'"
      ]
     },
     "execution_count": 8,
     "metadata": {},
     "output_type": "execute_result"
    }
   ],
   "source": [
    "account1.name"
   ]
  },
  {
   "cell_type": "code",
   "execution_count": 9,
   "metadata": {},
   "outputs": [
    {
     "data": {
      "text/plain": [
       "Decimal('50.00')"
      ]
     },
     "execution_count": 9,
     "metadata": {},
     "output_type": "execute_result"
    }
   ],
   "source": [
    "account1.balance"
   ]
  },
  {
   "cell_type": "code",
   "execution_count": 10,
   "metadata": {},
   "outputs": [],
   "source": [
    "account1.deposit(Decimal('25.53'))"
   ]
  },
  {
   "cell_type": "code",
   "execution_count": 11,
   "metadata": {},
   "outputs": [
    {
     "data": {
      "text/plain": [
       "Decimal('75.53')"
      ]
     },
     "execution_count": 11,
     "metadata": {},
     "output_type": "execute_result"
    }
   ],
   "source": [
    "account1.balance"
   ]
  },
  {
   "cell_type": "code",
   "execution_count": 12,
   "metadata": {},
   "outputs": [
    {
     "ename": "ValueError",
     "evalue": "amount must be positive.",
     "output_type": "error",
     "traceback": [
      "\u001b[1;31m---------------------------------------------------------------------------\u001b[0m",
      "\u001b[1;31mValueError\u001b[0m                                Traceback (most recent call last)",
      "\u001b[1;32mc:\\Users\\ksu09\\Intro to Python\\datafun-07-ml-predictive\\10.2.ipynb Cell 10\u001b[0m line \u001b[0;36m1\n\u001b[1;32m----> <a href='vscode-notebook-cell:/c%3A/Users/ksu09/Intro%20to%20Python/datafun-07-ml-predictive/10.2.ipynb#X12sZmlsZQ%3D%3D?line=0'>1</a>\u001b[0m account1\u001b[39m.\u001b[39;49mdeposit(Decimal(\u001b[39m'\u001b[39;49m\u001b[39m-123.45\u001b[39;49m\u001b[39m'\u001b[39;49m))\n",
      "\u001b[1;32mc:\\Users\\ksu09\\Intro to Python\\datafun-07-ml-predictive\\10.2.ipynb Cell 10\u001b[0m line \u001b[0;36m2\n\u001b[0;32m     <a href='vscode-notebook-cell:/c%3A/Users/ksu09/Intro%20to%20Python/datafun-07-ml-predictive/10.2.ipynb#X12sZmlsZQ%3D%3D?line=20'>21</a>\u001b[0m \u001b[39m# if amount is less than 0.00, raise an exception\u001b[39;00m\n\u001b[0;32m     <a href='vscode-notebook-cell:/c%3A/Users/ksu09/Intro%20to%20Python/datafun-07-ml-predictive/10.2.ipynb#X12sZmlsZQ%3D%3D?line=21'>22</a>\u001b[0m \u001b[39mif\u001b[39;00m amount \u001b[39m<\u001b[39m Decimal(\u001b[39m'\u001b[39m\u001b[39m0.00\u001b[39m\u001b[39m'\u001b[39m):\n\u001b[1;32m---> <a href='vscode-notebook-cell:/c%3A/Users/ksu09/Intro%20to%20Python/datafun-07-ml-predictive/10.2.ipynb#X12sZmlsZQ%3D%3D?line=22'>23</a>\u001b[0m     \u001b[39mraise\u001b[39;00m \u001b[39mValueError\u001b[39;00m(\u001b[39m'\u001b[39m\u001b[39mamount must be positive.\u001b[39m\u001b[39m'\u001b[39m)\n\u001b[0;32m     <a href='vscode-notebook-cell:/c%3A/Users/ksu09/Intro%20to%20Python/datafun-07-ml-predictive/10.2.ipynb#X12sZmlsZQ%3D%3D?line=24'>25</a>\u001b[0m \u001b[39mself\u001b[39m\u001b[39m.\u001b[39mbalance \u001b[39m+\u001b[39m\u001b[39m=\u001b[39m amount\n",
      "\u001b[1;31mValueError\u001b[0m: amount must be positive."
     ]
    }
   ],
   "source": [
    "account1.deposit(Decimal('-123.45'))"
   ]
  }
 ],
 "metadata": {
  "kernelspec": {
   "display_name": "Python (.venv)",
   "language": "python",
   "name": ".venv"
  },
  "language_info": {
   "codemirror_mode": {
    "name": "ipython",
    "version": 3
   },
   "file_extension": ".py",
   "mimetype": "text/x-python",
   "name": "python",
   "nbconvert_exporter": "python",
   "pygments_lexer": "ipython3",
   "version": "3.11.4"
  },
  "orig_nbformat": 4
 },
 "nbformat": 4,
 "nbformat_minor": 2
}
