{
 "cells": [
  {
   "cell_type": "code",
   "execution_count": 3,
   "metadata": {},
   "outputs": [],
   "source": [
    "# card.py\n",
    "\"\"\"Card class that represents a playing card and its image file name.\"\"\"\n",
    "\n",
    "class Card:\n",
    "    FACES = ['Ace', '2', '3', '4', '5', '6',\n",
    "             '7', '8', '9', '10', 'Jack', 'Queen', 'King']\n",
    "    SUITS = ['Hearts', 'Diamonds', 'Clubs', 'Spades']\n",
    "\n",
    "    def __init__(self, face, suit):\n",
    "        \"\"\"Initialize a Card with a face and suit.\"\"\"\n",
    "        self._face = face\n",
    "        self._suit = suit\n",
    "\n",
    "    @property\n",
    "    def face(self):\n",
    "        \"\"\"Return the Card's self._face value.\"\"\"\n",
    "        return self._face\n",
    "\n",
    "    @property\n",
    "    def suit(self):\n",
    "        \"\"\"Return the Card's self._suit value.\"\"\"\n",
    "        return self._suit\n",
    "\n",
    "    @property\n",
    "    def image_name(self):\n",
    "        \"\"\"Return the Card's image file name.\"\"\"\n",
    "        return str(self).replace(' ', '_') + '.png'\n",
    "\n",
    "    def __repr__(self):\n",
    "        \"\"\"Return string representation for repr().\"\"\"\n",
    "        return f\"Card(face='{self.face}', suit='{self.suit}')\"     \n",
    "\n",
    "    def __str__(self):\n",
    "        \"\"\"Return string representation for str().\"\"\"\n",
    "        return f'{self.face} of {self.suit}'\n",
    "\n",
    "    def __format__(self, format):\n",
    "        \"\"\"Return formatted string representation.\"\"\"\n",
    "        return f'{str(self):{format}}'"
   ]
  },
  {
   "cell_type": "code",
   "execution_count": 1,
   "metadata": {},
   "outputs": [
    {
     "ename": "ImportError",
     "evalue": "cannot import name 'Card' from 'card' (c:\\Users\\ksu09\\Intro to Python\\datafun-07-ml-predictive\\card.py)",
     "output_type": "error",
     "traceback": [
      "\u001b[1;31m---------------------------------------------------------------------------\u001b[0m",
      "\u001b[1;31mImportError\u001b[0m                               Traceback (most recent call last)",
      "\u001b[1;32mc:\\Users\\ksu09\\Intro to Python\\datafun-07-ml-predictive\\10.6.ipynb Cell 2\u001b[0m line \u001b[0;36m4\n\u001b[0;32m      <a href='vscode-notebook-cell:/c%3A/Users/ksu09/Intro%20to%20Python/datafun-07-ml-predictive/10.6.ipynb#W1sZmlsZQ%3D%3D?line=1'>2</a>\u001b[0m \u001b[39m\"\"\"Deck class represents a deck of Cards.\"\"\"\u001b[39;00m\n\u001b[0;32m      <a href='vscode-notebook-cell:/c%3A/Users/ksu09/Intro%20to%20Python/datafun-07-ml-predictive/10.6.ipynb#W1sZmlsZQ%3D%3D?line=2'>3</a>\u001b[0m \u001b[39mimport\u001b[39;00m \u001b[39mrandom\u001b[39;00m \n\u001b[1;32m----> <a href='vscode-notebook-cell:/c%3A/Users/ksu09/Intro%20to%20Python/datafun-07-ml-predictive/10.6.ipynb#W1sZmlsZQ%3D%3D?line=3'>4</a>\u001b[0m \u001b[39mfrom\u001b[39;00m \u001b[39mcard\u001b[39;00m \u001b[39mimport\u001b[39;00m Card\n\u001b[0;32m      <a href='vscode-notebook-cell:/c%3A/Users/ksu09/Intro%20to%20Python/datafun-07-ml-predictive/10.6.ipynb#W1sZmlsZQ%3D%3D?line=5'>6</a>\u001b[0m \u001b[39mclass\u001b[39;00m \u001b[39mDeckOfCards\u001b[39;00m:\n\u001b[0;32m      <a href='vscode-notebook-cell:/c%3A/Users/ksu09/Intro%20to%20Python/datafun-07-ml-predictive/10.6.ipynb#W1sZmlsZQ%3D%3D?line=6'>7</a>\u001b[0m     NUMBER_OF_CARDS \u001b[39m=\u001b[39m \u001b[39m52\u001b[39m  \u001b[39m# constant number of Cards\u001b[39;00m\n",
      "\u001b[1;31mImportError\u001b[0m: cannot import name 'Card' from 'card' (c:\\Users\\ksu09\\Intro to Python\\datafun-07-ml-predictive\\card.py)"
     ]
    }
   ],
   "source": [
    "# deck.py\n",
    "\"\"\"Deck class represents a deck of Cards.\"\"\"\n",
    "import random \n",
    "from card import Card\n",
    "\n",
    "class DeckOfCards:\n",
    "    NUMBER_OF_CARDS = 52  # constant number of Cards\n",
    "\n",
    "    def __init__(self):\n",
    "        \"\"\"Initialize the deck.\"\"\"\n",
    "        self._current_card = 0\n",
    "        self._deck = []\n",
    "\n",
    "        for count in range(DeckOfCards.NUMBER_OF_CARDS):  \n",
    "            self._deck.append(Card(Card.FACES[count % 13], \n",
    "                Card.SUITS[count // 13]))\n",
    "\n",
    "    def shuffle(self):\n",
    "        \"\"\"Shuffle deck.\"\"\"\n",
    "        self._current_card = 0\n",
    "        random.shuffle(self._deck)    \n",
    "\n",
    "    def deal_card(self):\n",
    "        \"\"\"Return one Card.\"\"\"\n",
    "        try:\n",
    "            card = self._deck[self._current_card]\n",
    "            self._current_card += 1\n",
    "            return card\n",
    "        except:\n",
    "            return None  \n",
    "\n",
    "    def __str__(self):\n",
    "        \"\"\"Return a string representation of the current _deck.\"\"\"\n",
    "        s = ''\n",
    "\n",
    "        for index, card in enumerate(self._deck):\n",
    "            s += f'{self._deck[index]:<19}'\n",
    "            if (index + 1) % 4 == 0:\n",
    "                s += '\\n'\n",
    "        \n",
    "        return s"
   ]
  },
  {
   "cell_type": "code",
   "execution_count": 2,
   "metadata": {},
   "outputs": [
    {
     "ename": "ImportError",
     "evalue": "cannot import name 'DeckOfCards' from 'deck' (c:\\Users\\ksu09\\Intro to Python\\datafun-07-ml-predictive\\deck.py)",
     "output_type": "error",
     "traceback": [
      "\u001b[1;31m---------------------------------------------------------------------------\u001b[0m",
      "\u001b[1;31mImportError\u001b[0m                               Traceback (most recent call last)",
      "\u001b[1;32mc:\\Users\\ksu09\\Intro to Python\\datafun-07-ml-predictive\\10.6.ipynb Cell 3\u001b[0m line \u001b[0;36m1\n\u001b[1;32m----> <a href='vscode-notebook-cell:/c%3A/Users/ksu09/Intro%20to%20Python/datafun-07-ml-predictive/10.6.ipynb#W0sZmlsZQ%3D%3D?line=0'>1</a>\u001b[0m \u001b[39mfrom\u001b[39;00m \u001b[39mdeck\u001b[39;00m \u001b[39mimport\u001b[39;00m DeckOfCards\n",
      "\u001b[1;31mImportError\u001b[0m: cannot import name 'DeckOfCards' from 'deck' (c:\\Users\\ksu09\\Intro to Python\\datafun-07-ml-predictive\\deck.py)"
     ]
    }
   ],
   "source": [
    "from deck import DeckOfCards"
   ]
  },
  {
   "cell_type": "code",
   "execution_count": 1,
   "metadata": {},
   "outputs": [
    {
     "ename": "NameError",
     "evalue": "name 'DeckOfCards' is not defined",
     "output_type": "error",
     "traceback": [
      "\u001b[1;31m---------------------------------------------------------------------------\u001b[0m",
      "\u001b[1;31mNameError\u001b[0m                                 Traceback (most recent call last)",
      "\u001b[1;32mc:\\Users\\ksu09\\Intro to Python\\datafun-07-ml-predictive\\10.6.ipynb Cell 4\u001b[0m line \u001b[0;36m1\n\u001b[1;32m----> <a href='vscode-notebook-cell:/c%3A/Users/ksu09/Intro%20to%20Python/datafun-07-ml-predictive/10.6.ipynb#W3sZmlsZQ%3D%3D?line=0'>1</a>\u001b[0m deck_of_cards \u001b[39m=\u001b[39m DeckOfCards()\n",
      "\u001b[1;31mNameError\u001b[0m: name 'DeckOfCards' is not defined"
     ]
    }
   ],
   "source": [
    "deck_of_cards = DeckOfCards()"
   ]
  }
 ],
 "metadata": {
  "kernelspec": {
   "display_name": ".venv",
   "language": "python",
   "name": "python3"
  },
  "language_info": {
   "codemirror_mode": {
    "name": "ipython",
    "version": 3
   },
   "file_extension": ".py",
   "mimetype": "text/x-python",
   "name": "python",
   "nbconvert_exporter": "python",
   "pygments_lexer": "ipython3",
   "version": "3.11.4"
  },
  "orig_nbformat": 4
 },
 "nbformat": 4,
 "nbformat_minor": 2
}
